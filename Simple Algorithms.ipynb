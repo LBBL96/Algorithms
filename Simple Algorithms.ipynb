{
 "cells": [
  {
   "cell_type": "markdown",
   "metadata": {},
   "source": [
    "Following are some simple algorithms with my initial answer followed by a simpler answer."
   ]
  },
  {
   "cell_type": "markdown",
   "metadata": {},
   "source": [
    "# Anagram\n",
    "\n",
    "Given two strings, determine if one is the anagram of the other."
   ]
  },
  {
   "cell_type": "code",
   "execution_count": 1,
   "metadata": {},
   "outputs": [],
   "source": [
    "# My answer\n",
    "def anagram(s1, s2):\n",
    "    one = [char for char in s1]\n",
    "    two = [char for char in s2]\n",
    "    return one.sort() == two.sort()"
   ]
  },
  {
   "cell_type": "markdown",
   "metadata": {},
   "source": [
    "A simpler answer is to keep the strings as strings and use the `sorted` method."
   ]
  },
  {
   "cell_type": "code",
   "execution_count": 2,
   "metadata": {},
   "outputs": [],
   "source": [
    "def anagram(s1, s2):\n",
    "    return sorted(s1) == sorted(s2)"
   ]
  },
  {
   "cell_type": "markdown",
   "metadata": {},
   "source": [
    "# Extra Word\n",
    "\n",
    "Given two strings where one is the subset of the other, determine the extra word in the larger set."
   ]
  },
  {
   "cell_type": "code",
   "execution_count": 20,
   "metadata": {},
   "outputs": [],
   "source": [
    "# My answer using lists\n",
    "def extra_word(s1, s2):\n",
    "    \n",
    "    \"\"\"\n",
    "    Given two strings where one is the subset of the other, \n",
    "    returns the extra word present in the larger set.  \n",
    "    \"\"\"\n",
    "    \n",
    "    if len(s1) < len(s2):\n",
    "        s1, s2 = s2, s1\n",
    "        \n",
    "    longer = s1.split()\n",
    "    shorter = s2.split()\n",
    "\n",
    "    for word in shorter:\n",
    "        longer.remove(word)\n",
    "        \n",
    "    return ''.join(longer)"
   ]
  },
  {
   "cell_type": "markdown",
   "metadata": {},
   "source": [
    "An alternate (longer) method is to use Counter."
   ]
  },
  {
   "cell_type": "code",
   "execution_count": 37,
   "metadata": {},
   "outputs": [],
   "source": [
    "def extra_word(s1, s2):\n",
    "    \n",
    "    \"\"\"\n",
    "    Given two strings where one is the subset of the other, \n",
    "    returns the extra word present in the larger set.  \n",
    "    \"\"\"\n",
    "    from collections import Counter\n",
    "    \n",
    "    if len(s1) < len(s2):\n",
    "        s1, s2 = s2, s1\n",
    "        \n",
    "    longer = s1.split()\n",
    "    shorter = s2.split()\n",
    "    \n",
    "    word = Counter(longer) - Counter(shorter)\n",
    "    \n",
    "    answer = [k for k in word.keys()]\n",
    "    \n",
    "    return ''.join(answer)"
   ]
  },
  {
   "cell_type": "markdown",
   "metadata": {},
   "source": [
    "# Merge-Sort\n",
    "\n",
    "The Sort"
   ]
  },
  {
   "cell_type": "code",
   "execution_count": 60,
   "metadata": {},
   "outputs": [],
   "source": [
    "def switch(x, y):\n",
    "    if x > y:\n",
    "        x, y = y, x\n",
    "        \n",
    "    return x, y"
   ]
  },
  {
   "cell_type": "code",
   "execution_count": 65,
   "metadata": {},
   "outputs": [
    {
     "name": "stdout",
     "output_type": "stream",
     "text": [
      "(3, 4)\n",
      "(2, 3)\n"
     ]
    }
   ],
   "source": [
    "print(switch(4, 3))\n",
    "print(switch(2, 3))"
   ]
  },
  {
   "cell_type": "markdown",
   "metadata": {},
   "source": [
    "The Merge"
   ]
  },
  {
   "cell_type": "code",
   "execution_count": 100,
   "metadata": {},
   "outputs": [
    {
     "name": "stdout",
     "output_type": "stream",
     "text": [
      "ran A; i = 0\n",
      "i incremented to: 1\n",
      "ran B; j = 0\n",
      "j incremented to: 1\n",
      "ran A; i = 1\n",
      "i incremented to: 2\n",
      "ran A; i = 2\n",
      "i incremented to: 3\n",
      "ran B; j = 1\n",
      "j incremented to: 2\n",
      "ran B; j = 2\n",
      "j incremented to: 3\n",
      "ran B; j = 3\n",
      "j incremented to: 4\n",
      "ran A; i = 3\n",
      "i incremented to: 4\n",
      "ran A; i = 4\n",
      "i incremented to: 5\n",
      "[1, 2, 3, 4, 5, 6, 7, 8, 9]\n"
     ]
    }
   ],
   "source": [
    "A = [1, 3, 4, 8, 9]\n",
    "B = [2, 5, 6, 7, 10, 11]\n",
    "C = []\n",
    "n = len(A) + len(B)\n",
    "i = 0\n",
    "j = 0\n",
    "k = 0\n",
    "\n",
    "while k < n:\n",
    "#     if ((j > len(B) - 1) and i < len(A) - 1) or (A[i] < B[j]):\n",
    "    if i < len(A):\n",
    "        \n",
    "        if (j > len(B) - 1) or (A[i] < B[j]):\n",
    "            C.append(A[i])\n",
    "            print('ran A; i =', i)\n",
    "            i += 1\n",
    "            print('i incremented to:', i)\n",
    "            \n",
    "        elif j < len(B):    \n",
    "        \n",
    "           if (i > len(A) - 1) or A[i] > B[j]:\n",
    "                C.append(B[j])\n",
    "                print('ran B; j =', j)\n",
    "                j += 1 \n",
    "                print('j incremented to:', j)\n",
    "    \n",
    "        \n",
    "    k += 1\n",
    "    \n",
    "print(C)"
   ]
  },
  {
   "cell_type": "code",
   "execution_count": 106,
   "metadata": {},
   "outputs": [],
   "source": [
    "def merge(A, B):\n",
    "    C = []\n",
    "    n = len(A) + len(B)\n",
    "    i = 0\n",
    "    j = 0\n",
    "    k = 0\n",
    "\n",
    "    while k < n:\n",
    "        if (j > len(B) - 1) or A[i] < B[j]:\n",
    "            C.append(A[i])\n",
    "            print('ran A; i =', i)\n",
    "            i += 1\n",
    "        \n",
    "        elif (i > len(A) - 1) or A[i] > B[j]:\n",
    "            C.append(B[j])\n",
    "            print('ran B; j =', j)\n",
    "            j += 1\n",
    "    \n",
    "        \n",
    "        k += 1\n",
    "        \n",
    "    return C"
   ]
  }
 ],
 "metadata": {
  "kernelspec": {
   "display_name": "Python 3",
   "language": "python",
   "name": "python3"
  },
  "language_info": {
   "codemirror_mode": {
    "name": "ipython",
    "version": 3
   },
   "file_extension": ".py",
   "mimetype": "text/x-python",
   "name": "python",
   "nbconvert_exporter": "python",
   "pygments_lexer": "ipython3",
   "version": "3.6.8"
  }
 },
 "nbformat": 4,
 "nbformat_minor": 4
}
